{
 "cells": [
  {
   "cell_type": "markdown",
   "id": "598d9d21",
   "metadata": {},
   "source": [
    "# Buffalo City Crime Data Analysis #\n"
   ]
  },
  {
   "cell_type": "code",
   "execution_count": 1,
   "id": "e4f86cbd",
   "metadata": {},
   "outputs": [],
   "source": [
    "import sqlite3\n",
    "from sqlite3 import Error\n",
    "import matplotlib.pyplot as plt\n",
    "import pandas as pd\n",
    "\n",
    "def create_connection(db_file, delete_db=False):\n",
    "    import os\n",
    "    if delete_db and os.path.exists(db_file):\n",
    "        os.remove(db_file)\n",
    "    conn = None\n",
    "    try:\n",
    "        conn = sqlite3.connect(db_file)\n",
    "        conn.execute(\"PRAGMA foreign_keys = 1\")\n",
    "    except Error as e:\n",
    "        print(e)\n",
    "    return conn\n",
    "\n",
    "\n",
    "def create_table(conn, create_table_sql, drop_table_name=None):   \n",
    "    if drop_table_name: \n",
    "        try:\n",
    "            c = conn.cursor()\n",
    "            c.execute(\"\"\"DROP TABLE IF EXISTS %s\"\"\" % (drop_table_name))\n",
    "        except Error as e:\n",
    "            print(e)    \n",
    "    try:\n",
    "        c = conn.cursor()\n",
    "        c.execute(create_table_sql)\n",
    "    except Error as e:\n",
    "        print(e)\n",
    "        \n",
    "def execute_sql_statement(sql_statement, conn):\n",
    "    cur = conn.cursor()\n",
    "    cur.execute(sql_statement)\n",
    "    rows = cur.fetchall()\n",
    "    return rows"
   ]
  },
  {
   "cell_type": "markdown",
   "id": "6254db76",
   "metadata": {},
   "source": [
    "#### Creating tables Incident_type and Incident"
   ]
  },
  {
   "cell_type": "code",
   "execution_count": 2,
   "id": "492e9222",
   "metadata": {},
   "outputs": [],
   "source": [
    "\n",
    "conn = create_connection('normalized.db', True)\n",
    "cur = conn.cursor()\n",
    "sql_statement1 = 'CREATE TABLE Incident_type (Incident_type_primary TEXT Primary key NOT NULL, Parent_Incident TEXT NOT NULL);'\n",
    "sql_statement2 = 'CREATE TABLE Incident (Case_number TEXT NOT NULL Primary key,  Incident_datetime DATE, Incident_type_primary TEXT REFERENCES Incident_type(Incident_type_primary), Zipcode TEXT, hour_of_day INTEGER, day_of_week TEXT,  Neighbourhood TEXT, Police_District TEXT,Council_District TEXT,Year date);'\n",
    "with conn:\n",
    "    create_table(conn, sql_statement1, 'Incident_type')\n",
    "    create_table(conn, sql_statement2, 'Incident')\n"
   ]
  },
  {
   "cell_type": "markdown",
   "id": "a9d24ed6",
   "metadata": {},
   "source": [
    "**Inserting records into the two tables**"
   ]
  },
  {
   "cell_type": "code",
   "execution_count": 3,
   "id": "dc3ea731",
   "metadata": {},
   "outputs": [],
   "source": [
    "line_num = 0\n",
    "l = []\n",
    "w = []\n",
    "cur = conn.cursor()\n",
    "with open('Crime_Incidents_modified.csv','r') as file:\n",
    "    lines = file.readlines()\n",
    "for line in lines:\n",
    "    if(line_num == 0):\n",
    "        line_num += 1\n",
    "        continue\n",
    "    words = line.split(',')\n",
    "    a = words[2].upper()\n",
    "    b = int(words[13].strip())\n",
    "    x = words[14].upper()\n",
    "    if a not in l:\n",
    "        l.append(a)\n",
    "        c1 =a+\"','\"+words[15]\n",
    "        q1 = \"INSERT INTO Incident_type values('\"+c1+\"');\"\n",
    "        execute_sql_statement(q1, conn)\n",
    "    c2 = words[0]+\"','\"+words[1]+\"','\"+a+\"','\"+words[7]+\"','\"+str(b)+\"','\"+x+\"','\"+words[19]+\"','\"+words[20]+\"','\"+words[21]+\"','\"+words[25]\n",
    "    q2 = \"INSERT INTO Incident values('\"+c2+\"');\"\n",
    "    execute_sql_statement(q2, conn)"
   ]
  },
  {
   "cell_type": "markdown",
   "id": "369b54df",
   "metadata": {},
   "source": [
    "**Viewing the two tables after data is loaded**"
   ]
  },
  {
   "cell_type": "code",
   "execution_count": 4,
   "id": "e90d93d2",
   "metadata": {},
   "outputs": [
    {
     "data": {
      "text/html": [
       "<div>\n",
       "<style scoped>\n",
       "    .dataframe tbody tr th:only-of-type {\n",
       "        vertical-align: middle;\n",
       "    }\n",
       "\n",
       "    .dataframe tbody tr th {\n",
       "        vertical-align: top;\n",
       "    }\n",
       "\n",
       "    .dataframe thead th {\n",
       "        text-align: right;\n",
       "    }\n",
       "</style>\n",
       "<table border=\"1\" class=\"dataframe\">\n",
       "  <thead>\n",
       "    <tr style=\"text-align: right;\">\n",
       "      <th></th>\n",
       "      <th>Case_number</th>\n",
       "      <th>Incident_datetime</th>\n",
       "      <th>Incident_type_primary</th>\n",
       "      <th>Zipcode</th>\n",
       "      <th>hour_of_day</th>\n",
       "      <th>day_of_week</th>\n",
       "      <th>Neighbourhood</th>\n",
       "      <th>Police_District</th>\n",
       "      <th>Council_District</th>\n",
       "      <th>Year</th>\n",
       "    </tr>\n",
       "  </thead>\n",
       "  <tbody>\n",
       "    <tr>\n",
       "      <th>0</th>\n",
       "      <td>21-2590758</td>\n",
       "      <td>9/16/2021 17:20</td>\n",
       "      <td>LARCENY/THEFT</td>\n",
       "      <td></td>\n",
       "      <td>17</td>\n",
       "      <td>THURSDAY</td>\n",
       "      <td></td>\n",
       "      <td></td>\n",
       "      <td></td>\n",
       "      <td>2021</td>\n",
       "    </tr>\n",
       "    <tr>\n",
       "      <th>1</th>\n",
       "      <td>21-2540744</td>\n",
       "      <td>9/11/2021 16:36</td>\n",
       "      <td>LARCENY/THEFT</td>\n",
       "      <td>14203</td>\n",
       "      <td>16</td>\n",
       "      <td>SATURDAY</td>\n",
       "      <td>Central</td>\n",
       "      <td>District B</td>\n",
       "      <td>ELLICOTT</td>\n",
       "      <td>2021</td>\n",
       "    </tr>\n",
       "    <tr>\n",
       "      <th>2</th>\n",
       "      <td>21-2540255</td>\n",
       "      <td>9/11/2021 6:00</td>\n",
       "      <td>LARCENY/THEFT</td>\n",
       "      <td>14220</td>\n",
       "      <td>6</td>\n",
       "      <td>SATURDAY</td>\n",
       "      <td>Hopkins-Tifft</td>\n",
       "      <td>District A</td>\n",
       "      <td>LOVEJOY</td>\n",
       "      <td>2021</td>\n",
       "    </tr>\n",
       "    <tr>\n",
       "      <th>3</th>\n",
       "      <td>21-2550922</td>\n",
       "      <td>9/12/2021 21:20</td>\n",
       "      <td>LARCENY/THEFT</td>\n",
       "      <td>14220</td>\n",
       "      <td>21</td>\n",
       "      <td>SUNDAY</td>\n",
       "      <td>Hopkins-Tifft</td>\n",
       "      <td>District A</td>\n",
       "      <td>LOVEJOY</td>\n",
       "      <td>2021</td>\n",
       "    </tr>\n",
       "    <tr>\n",
       "      <th>4</th>\n",
       "      <td>21-2560651</td>\n",
       "      <td>9/13/2021 16:04</td>\n",
       "      <td>ASSAULT</td>\n",
       "      <td>14204</td>\n",
       "      <td>16</td>\n",
       "      <td>MONDAY</td>\n",
       "      <td>Broadway Fillmore</td>\n",
       "      <td>District C</td>\n",
       "      <td>ELLICOTT</td>\n",
       "      <td>2021</td>\n",
       "    </tr>\n",
       "    <tr>\n",
       "      <th>...</th>\n",
       "      <td>...</td>\n",
       "      <td>...</td>\n",
       "      <td>...</td>\n",
       "      <td>...</td>\n",
       "      <td>...</td>\n",
       "      <td>...</td>\n",
       "      <td>...</td>\n",
       "      <td>...</td>\n",
       "      <td>...</td>\n",
       "      <td>...</td>\n",
       "    </tr>\n",
       "    <tr>\n",
       "      <th>276623</th>\n",
       "      <td>10-2900068</td>\n",
       "      <td>10/17/2010 1:11</td>\n",
       "      <td>ROBBERY</td>\n",
       "      <td>14211</td>\n",
       "      <td>1</td>\n",
       "      <td>SUNDAY</td>\n",
       "      <td>Genesee-Moselle</td>\n",
       "      <td>District C</td>\n",
       "      <td>LOVEJOY</td>\n",
       "      <td>2010</td>\n",
       "    </tr>\n",
       "    <tr>\n",
       "      <th>276624</th>\n",
       "      <td>19-2740610</td>\n",
       "      <td>10/1/2019 16:20</td>\n",
       "      <td>BURGLARY</td>\n",
       "      <td>14211</td>\n",
       "      <td>16</td>\n",
       "      <td>TUESDAY</td>\n",
       "      <td>Schiller Park</td>\n",
       "      <td>District C</td>\n",
       "      <td>LOVEJOY</td>\n",
       "      <td>2019</td>\n",
       "    </tr>\n",
       "    <tr>\n",
       "      <th>276625</th>\n",
       "      <td>14-2350371</td>\n",
       "      <td>8/23/2014 0:30</td>\n",
       "      <td>LARCENY/THEFT</td>\n",
       "      <td>14213</td>\n",
       "      <td>0</td>\n",
       "      <td>SATURDAY</td>\n",
       "      <td>West Side</td>\n",
       "      <td>District B</td>\n",
       "      <td>NIAGARA</td>\n",
       "      <td>2014</td>\n",
       "    </tr>\n",
       "    <tr>\n",
       "      <th>276626</th>\n",
       "      <td>14-3560929</td>\n",
       "      <td>12/21/2014 23:00</td>\n",
       "      <td>ASSAULT</td>\n",
       "      <td>14212</td>\n",
       "      <td>23</td>\n",
       "      <td>SUNDAY</td>\n",
       "      <td>Genesee-Moselle</td>\n",
       "      <td>District C</td>\n",
       "      <td>FILLMORE</td>\n",
       "      <td>2014</td>\n",
       "    </tr>\n",
       "    <tr>\n",
       "      <th>276627</th>\n",
       "      <td>13-2500391</td>\n",
       "      <td>9/6/2013 13:00</td>\n",
       "      <td>LARCENY/THEFT</td>\n",
       "      <td>14203</td>\n",
       "      <td>13</td>\n",
       "      <td>FRIDAY</td>\n",
       "      <td>Central</td>\n",
       "      <td>District B</td>\n",
       "      <td>ELLICOTT</td>\n",
       "      <td>2013</td>\n",
       "    </tr>\n",
       "  </tbody>\n",
       "</table>\n",
       "<p>276628 rows × 10 columns</p>\n",
       "</div>"
      ],
      "text/plain": [
       "       Case_number Incident_datetime Incident_type_primary Zipcode  \\\n",
       "0       21-2590758   9/16/2021 17:20         LARCENY/THEFT           \n",
       "1       21-2540744   9/11/2021 16:36         LARCENY/THEFT   14203   \n",
       "2       21-2540255    9/11/2021 6:00         LARCENY/THEFT   14220   \n",
       "3       21-2550922   9/12/2021 21:20         LARCENY/THEFT   14220   \n",
       "4       21-2560651   9/13/2021 16:04               ASSAULT   14204   \n",
       "...            ...               ...                   ...     ...   \n",
       "276623  10-2900068   10/17/2010 1:11               ROBBERY   14211   \n",
       "276624  19-2740610   10/1/2019 16:20              BURGLARY   14211   \n",
       "276625  14-2350371    8/23/2014 0:30         LARCENY/THEFT   14213   \n",
       "276626  14-3560929  12/21/2014 23:00               ASSAULT   14212   \n",
       "276627  13-2500391    9/6/2013 13:00         LARCENY/THEFT   14203   \n",
       "\n",
       "        hour_of_day day_of_week      Neighbourhood Police_District  \\\n",
       "0                17    THURSDAY                                      \n",
       "1                16    SATURDAY            Central      District B   \n",
       "2                 6    SATURDAY      Hopkins-Tifft      District A   \n",
       "3                21      SUNDAY      Hopkins-Tifft      District A   \n",
       "4                16      MONDAY  Broadway Fillmore      District C   \n",
       "...             ...         ...                ...             ...   \n",
       "276623            1      SUNDAY    Genesee-Moselle      District C   \n",
       "276624           16     TUESDAY      Schiller Park      District C   \n",
       "276625            0    SATURDAY          West Side      District B   \n",
       "276626           23      SUNDAY    Genesee-Moselle      District C   \n",
       "276627           13      FRIDAY            Central      District B   \n",
       "\n",
       "       Council_District  Year  \n",
       "0                        2021  \n",
       "1              ELLICOTT  2021  \n",
       "2               LOVEJOY  2021  \n",
       "3               LOVEJOY  2021  \n",
       "4              ELLICOTT  2021  \n",
       "...                 ...   ...  \n",
       "276623          LOVEJOY  2010  \n",
       "276624          LOVEJOY  2019  \n",
       "276625          NIAGARA  2014  \n",
       "276626         FILLMORE  2014  \n",
       "276627         ELLICOTT  2013  \n",
       "\n",
       "[276628 rows x 10 columns]"
      ]
     },
     "metadata": {},
     "output_type": "display_data"
    },
    {
     "data": {
      "text/html": [
       "<div>\n",
       "<style scoped>\n",
       "    .dataframe tbody tr th:only-of-type {\n",
       "        vertical-align: middle;\n",
       "    }\n",
       "\n",
       "    .dataframe tbody tr th {\n",
       "        vertical-align: top;\n",
       "    }\n",
       "\n",
       "    .dataframe thead th {\n",
       "        text-align: right;\n",
       "    }\n",
       "</style>\n",
       "<table border=\"1\" class=\"dataframe\">\n",
       "  <thead>\n",
       "    <tr style=\"text-align: right;\">\n",
       "      <th></th>\n",
       "      <th>Incident_type_primary</th>\n",
       "      <th>Parent_Incident</th>\n",
       "    </tr>\n",
       "  </thead>\n",
       "  <tbody>\n",
       "    <tr>\n",
       "      <th>0</th>\n",
       "      <td>LARCENY/THEFT</td>\n",
       "      <td>Theft</td>\n",
       "    </tr>\n",
       "    <tr>\n",
       "      <th>1</th>\n",
       "      <td>ASSAULT</td>\n",
       "      <td>Assault</td>\n",
       "    </tr>\n",
       "    <tr>\n",
       "      <th>2</th>\n",
       "      <td>BURGLARY</td>\n",
       "      <td>Breaking &amp; Entering</td>\n",
       "    </tr>\n",
       "    <tr>\n",
       "      <th>3</th>\n",
       "      <td>UUV</td>\n",
       "      <td>Theft of Vehicle</td>\n",
       "    </tr>\n",
       "    <tr>\n",
       "      <th>4</th>\n",
       "      <td>SEXUAL ABUSE</td>\n",
       "      <td>Sexual Offense</td>\n",
       "    </tr>\n",
       "    <tr>\n",
       "      <th>5</th>\n",
       "      <td>MURDER</td>\n",
       "      <td>Homicide</td>\n",
       "    </tr>\n",
       "    <tr>\n",
       "      <th>6</th>\n",
       "      <td>ROBBERY</td>\n",
       "      <td>Robbery</td>\n",
       "    </tr>\n",
       "    <tr>\n",
       "      <th>7</th>\n",
       "      <td>RAPE</td>\n",
       "      <td>Sexual Offense</td>\n",
       "    </tr>\n",
       "    <tr>\n",
       "      <th>8</th>\n",
       "      <td>AGGR ASSAULT</td>\n",
       "      <td>Assault</td>\n",
       "    </tr>\n",
       "    <tr>\n",
       "      <th>9</th>\n",
       "      <td>THEFT OF SERVICES</td>\n",
       "      <td>Theft</td>\n",
       "    </tr>\n",
       "    <tr>\n",
       "      <th>10</th>\n",
       "      <td>CRIM NEGLIGENT HOMICIDE</td>\n",
       "      <td>Homicide</td>\n",
       "    </tr>\n",
       "    <tr>\n",
       "      <th>11</th>\n",
       "      <td>MANSLAUGHTER</td>\n",
       "      <td>Homicide</td>\n",
       "    </tr>\n",
       "    <tr>\n",
       "      <th>12</th>\n",
       "      <td>THEFT OF VEHICLE</td>\n",
       "      <td>Theft of Vehicle</td>\n",
       "    </tr>\n",
       "    <tr>\n",
       "      <th>13</th>\n",
       "      <td>BREAKING &amp; ENTERING</td>\n",
       "      <td>Breaking &amp; Entering</td>\n",
       "    </tr>\n",
       "    <tr>\n",
       "      <th>14</th>\n",
       "      <td>THEFT</td>\n",
       "      <td>Theft</td>\n",
       "    </tr>\n",
       "    <tr>\n",
       "      <th>15</th>\n",
       "      <td>OTHER SEXUAL OFFENSE</td>\n",
       "      <td>Sexual Offense</td>\n",
       "    </tr>\n",
       "    <tr>\n",
       "      <th>16</th>\n",
       "      <td>SEXUAL ASSAULT</td>\n",
       "      <td>Sexual Offense</td>\n",
       "    </tr>\n",
       "    <tr>\n",
       "      <th>17</th>\n",
       "      <td>HOMICIDE</td>\n",
       "      <td>Homicide</td>\n",
       "    </tr>\n",
       "    <tr>\n",
       "      <th>18</th>\n",
       "      <td>AGG ASSAULT ON P/OFFICER</td>\n",
       "      <td>Assault</td>\n",
       "    </tr>\n",
       "  </tbody>\n",
       "</table>\n",
       "</div>"
      ],
      "text/plain": [
       "       Incident_type_primary      Parent_Incident\n",
       "0              LARCENY/THEFT                Theft\n",
       "1                    ASSAULT              Assault\n",
       "2                   BURGLARY  Breaking & Entering\n",
       "3                        UUV     Theft of Vehicle\n",
       "4               SEXUAL ABUSE       Sexual Offense\n",
       "5                     MURDER             Homicide\n",
       "6                    ROBBERY              Robbery\n",
       "7                       RAPE       Sexual Offense\n",
       "8               AGGR ASSAULT              Assault\n",
       "9          THEFT OF SERVICES                Theft\n",
       "10   CRIM NEGLIGENT HOMICIDE             Homicide\n",
       "11              MANSLAUGHTER             Homicide\n",
       "12          THEFT OF VEHICLE     Theft of Vehicle\n",
       "13       BREAKING & ENTERING  Breaking & Entering\n",
       "14                     THEFT                Theft\n",
       "15      OTHER SEXUAL OFFENSE       Sexual Offense\n",
       "16            SEXUAL ASSAULT       Sexual Offense\n",
       "17                  HOMICIDE             Homicide\n",
       "18  AGG ASSAULT ON P/OFFICER              Assault"
      ]
     },
     "metadata": {},
     "output_type": "display_data"
    }
   ],
   "source": [
    "sql_statement=\"select * from Incident\"\n",
    "sql_statement2=\"select * from Incident_type\"\n",
    "df = pd.read_sql_query(sql_statement, conn)\n",
    "df2 = pd.read_sql_query(sql_statement2, conn)\n",
    "display(df)\n",
    "display(df2)"
   ]
  },
  {
   "cell_type": "markdown",
   "id": "c2920130",
   "metadata": {},
   "source": [
    "###  1. How the crime rate has changed overtime?"
   ]
  },
  {
   "cell_type": "code",
   "execution_count": 5,
   "id": "5ad460b6",
   "metadata": {},
   "outputs": [
    {
     "data": {
      "text/html": [
       "<div>\n",
       "<style scoped>\n",
       "    .dataframe tbody tr th:only-of-type {\n",
       "        vertical-align: middle;\n",
       "    }\n",
       "\n",
       "    .dataframe tbody tr th {\n",
       "        vertical-align: top;\n",
       "    }\n",
       "\n",
       "    .dataframe thead th {\n",
       "        text-align: right;\n",
       "    }\n",
       "</style>\n",
       "<table border=\"1\" class=\"dataframe\">\n",
       "  <thead>\n",
       "    <tr style=\"text-align: right;\">\n",
       "      <th></th>\n",
       "      <th>Year</th>\n",
       "      <th>crime_count</th>\n",
       "    </tr>\n",
       "  </thead>\n",
       "  <tbody>\n",
       "    <tr>\n",
       "      <th>0</th>\n",
       "      <td>2020</td>\n",
       "      <td>12114</td>\n",
       "    </tr>\n",
       "    <tr>\n",
       "      <th>1</th>\n",
       "      <td>2019</td>\n",
       "      <td>13665</td>\n",
       "    </tr>\n",
       "    <tr>\n",
       "      <th>2</th>\n",
       "      <td>2018</td>\n",
       "      <td>15465</td>\n",
       "    </tr>\n",
       "    <tr>\n",
       "      <th>3</th>\n",
       "      <td>2017</td>\n",
       "      <td>15405</td>\n",
       "    </tr>\n",
       "    <tr>\n",
       "      <th>4</th>\n",
       "      <td>2016</td>\n",
       "      <td>16451</td>\n",
       "    </tr>\n",
       "    <tr>\n",
       "      <th>5</th>\n",
       "      <td>2015</td>\n",
       "      <td>17268</td>\n",
       "    </tr>\n",
       "    <tr>\n",
       "      <th>6</th>\n",
       "      <td>2014</td>\n",
       "      <td>17523</td>\n",
       "    </tr>\n",
       "    <tr>\n",
       "      <th>7</th>\n",
       "      <td>2013</td>\n",
       "      <td>18652</td>\n",
       "    </tr>\n",
       "    <tr>\n",
       "      <th>8</th>\n",
       "      <td>2012</td>\n",
       "      <td>20613</td>\n",
       "    </tr>\n",
       "    <tr>\n",
       "      <th>9</th>\n",
       "      <td>2011</td>\n",
       "      <td>20472</td>\n",
       "    </tr>\n",
       "    <tr>\n",
       "      <th>10</th>\n",
       "      <td>2010</td>\n",
       "      <td>21708</td>\n",
       "    </tr>\n",
       "  </tbody>\n",
       "</table>\n",
       "</div>"
      ],
      "text/plain": [
       "    Year  crime_count\n",
       "0   2020        12114\n",
       "1   2019        13665\n",
       "2   2018        15465\n",
       "3   2017        15405\n",
       "4   2016        16451\n",
       "5   2015        17268\n",
       "6   2014        17523\n",
       "7   2013        18652\n",
       "8   2012        20613\n",
       "9   2011        20472\n",
       "10  2010        21708"
      ]
     },
     "metadata": {},
     "output_type": "display_data"
    }
   ],
   "source": [
    "Number_crimes_over_year = pd.read_sql_query('''\n",
    "select * from (Select Year, Count(Incident_type.Parent_Incident) as crime_count from Incident INNER JOIN Incident_type on Incident.Incident_type_primary=Incident_type.Incident_type_primary  group by Year order by  Year desc) where year between 2010 and 2020;''',conn)\n",
    "Number_crimes_over_year.columns = ['Year', 'crime_count']\n",
    "display(Number_crimes_over_year)"
   ]
  },
  {
   "cell_type": "code",
   "execution_count": 6,
   "id": "3b21a5bc",
   "metadata": {},
   "outputs": [
    {
     "data": {
      "text/plain": [
       "Text(0.5, 1.0, 'Crime trend over the last 10 years')"
      ]
     },
     "execution_count": 6,
     "metadata": {},
     "output_type": "execute_result"
    },
    {
     "data": {
      "image/png": "[encoded data removed]",
      "text/plain": [
       "<Figure size 432x288 with 1 Axes>"
      ]
     },
     "metadata": {
      "needs_background": "light"
     },
     "output_type": "display_data"
    }
   ],
   "source": [
    "##plt.plot(Number_crimes_over_year['Year'],Number_crimes_over_year['frequency'],linewidth=2,color='red',)\n",
    "fig = plt.figure()\n",
    "axes = fig.add_axes([2, 1, 2, 1])\n",
    "axes.plot(Number_crimes_over_year['Year'],Number_crimes_over_year['crime_count'],linewidth=2,color='red')\n",
    "axes.set_xlabel('Year',fontsize=15)\n",
    "axes.set_ylabel('Count',fontsize=15)\n",
    "axes.set_title('Crime trend over the last 10 years',fontsize=15)"
   ]
  },
  {
   "cell_type": "markdown",
   "id": "d23741f5",
   "metadata": {},
   "source": [
    "fig = plt.figure(figsize=(15, 5))\n",
    "axes = fig.add_axes([2, 1, 2, 1])\n",
    "plt.bar(Number_crimes_over_year['Year'],Number_crimes_over_year['crime_count'],width=.7,edgecolor=\"black\")\n",
    "axes.set_xlabel('Year',fontsize=20)\n",
    "axes.set_ylabel('crime_count',fontsize=20)\n",
    "plt.title('Crime over the last 10 years',fontsize=30)"
   ]
  },
  {
   "cell_type": "markdown",
   "id": "a7e92ff8",
   "metadata": {},
   "source": [
    "#### The crime rate in buffalo city has drastically reduced from 2010 to  2020.This shows that there is scope to further reduce the crime rate in the future if we can identify the hot spots and take preventive measures to curb the crimes which occur mostly."
   ]
  },
  {
   "cell_type": "markdown",
   "id": "5e664e8d",
   "metadata": {},
   "source": [
    "### 2. What kind of crimes occur most frequently?"
   ]
  },
  {
   "cell_type": "code",
   "execution_count": 7,
   "id": "2b03195e",
   "metadata": {},
   "outputs": [],
   "source": [
    "Number_crimes = pd.read_sql_query(\"Select Incident_type.Parent_Incident, Count(Incident_type.Parent_Incident) as count from Incident INNER JOIN Incident_type on Incident.Incident_type_primary=Incident_type.Incident_type_primary  Group by Incident_type.Parent_Incident Order by Count(Incident_type.Parent_Incident) DESC;\",conn)\n",
    "Number_crimes.columns = ['Incident_type', 'values']"
   ]
  },
  {
   "cell_type": "code",
   "execution_count": 8,
   "id": "04a27bb8",
   "metadata": {},
   "outputs": [
    {
     "data": {
      "text/plain": [
       "<matplotlib.legend.Legend at 0x7fa259bd1730>"
      ]
     },
     "execution_count": 8,
     "metadata": {},
     "output_type": "execute_result"
    },
    {
     "data": {
      "image/png": "[encoded data removed]",
      "text/plain": [
       "<Figure size 1080x792 with 1 Axes>"
      ]
     },
     "metadata": {},
     "output_type": "display_data"
    }
   ],
   "source": [
    "plt.figure(figsize=(15, 11))\n",
    "plt.pie(Number_crimes['values'],autopct='%1.2f%%',wedgeprops={\"linewidth\": 1, \"edgecolor\": \"white\"})\n",
    "plt.title('Mostly occured crimes in Buffalo City',fontsize=15)\n",
    "plt.legend(labels = Number_crimes['Incident_type'],loc='upper right')"
   ]
  },
  {
   "cell_type": "markdown",
   "id": "f899d7ee",
   "metadata": {},
   "source": [
    "#### The most occurred crime in Buffalo city was theft  followed by assault"
   ]
  },
  {
   "cell_type": "markdown",
   "id": "90dac19c",
   "metadata": {},
   "source": [
    "### 3. Which council Districts have the most number of crimes commited?"
   ]
  },
  {
   "cell_type": "code",
   "execution_count": 9,
   "id": "03a94d8d",
   "metadata": {},
   "outputs": [
    {
     "data": {
      "text/html": [
       "<div>\n",
       "<style scoped>\n",
       "    .dataframe tbody tr th:only-of-type {\n",
       "        vertical-align: middle;\n",
       "    }\n",
       "\n",
       "    .dataframe tbody tr th {\n",
       "        vertical-align: top;\n",
       "    }\n",
       "\n",
       "    .dataframe thead th {\n",
       "        text-align: right;\n",
       "    }\n",
       "</style>\n",
       "<table border=\"1\" class=\"dataframe\">\n",
       "  <thead>\n",
       "    <tr style=\"text-align: right;\">\n",
       "      <th></th>\n",
       "      <th>Council District</th>\n",
       "      <th>No of Crimes</th>\n",
       "    </tr>\n",
       "  </thead>\n",
       "  <tbody>\n",
       "    <tr>\n",
       "      <th>0</th>\n",
       "      <td>ELLICOTT</td>\n",
       "      <td>44826</td>\n",
       "    </tr>\n",
       "    <tr>\n",
       "      <th>1</th>\n",
       "      <td>NORTH</td>\n",
       "      <td>36121</td>\n",
       "    </tr>\n",
       "    <tr>\n",
       "      <th>2</th>\n",
       "      <td>LOVEJOY</td>\n",
       "      <td>32574</td>\n",
       "    </tr>\n",
       "    <tr>\n",
       "      <th>3</th>\n",
       "      <td>UNIVERSITY</td>\n",
       "      <td>32224</td>\n",
       "    </tr>\n",
       "    <tr>\n",
       "      <th>4</th>\n",
       "      <td>FILLMORE</td>\n",
       "      <td>31047</td>\n",
       "    </tr>\n",
       "    <tr>\n",
       "      <th>5</th>\n",
       "      <td>MASTEN</td>\n",
       "      <td>30681</td>\n",
       "    </tr>\n",
       "    <tr>\n",
       "      <th>6</th>\n",
       "      <td>NIAGARA</td>\n",
       "      <td>30105</td>\n",
       "    </tr>\n",
       "    <tr>\n",
       "      <th>7</th>\n",
       "      <td>DELAWARE</td>\n",
       "      <td>18469</td>\n",
       "    </tr>\n",
       "    <tr>\n",
       "      <th>8</th>\n",
       "      <td>SOUTH</td>\n",
       "      <td>17202</td>\n",
       "    </tr>\n",
       "  </tbody>\n",
       "</table>\n",
       "</div>"
      ],
      "text/plain": [
       "  Council District  No of Crimes\n",
       "0         ELLICOTT         44826\n",
       "1            NORTH         36121\n",
       "2          LOVEJOY         32574\n",
       "3       UNIVERSITY         32224\n",
       "4         FILLMORE         31047\n",
       "5           MASTEN         30681\n",
       "6          NIAGARA         30105\n",
       "7         DELAWARE         18469\n",
       "8            SOUTH         17202"
      ]
     },
     "metadata": {},
     "output_type": "display_data"
    }
   ],
   "source": [
    "Council_District = pd.read_sql_query('''Select Council_District, Count(Council_District) as Count from Incident \n",
    "                                        Group by Council_District\n",
    "                                        Order by Count(Council_District) DESC;''',conn)\n",
    "Council_District.columns = [\"Council District\", \"No of Crimes\"]\n",
    "display(Council_District[0:9])"
   ]
  },
  {
   "cell_type": "code",
   "execution_count": 10,
   "id": "fb96ac58",
   "metadata": {},
   "outputs": [
    {
     "data": {
      "text/plain": [
       "Text(0.5, 1.0, 'Council District VS Number of crimes')"
      ]
     },
     "execution_count": 10,
     "metadata": {},
     "output_type": "execute_result"
    },
    {
     "data": {
      "image/png": "[encoded data removed]",
      "text/plain": [
       "<Figure size 1080x360 with 1 Axes>"
      ]
     },
     "metadata": {
      "needs_background": "light"
     },
     "output_type": "display_data"
    }
   ],
   "source": [
    "plt.figure(figsize=(15, 5))\n",
    "plt.bar(Council_District['Council District'][0:9],Council_District['No of Crimes'][0:9], color=(0.2, 0.4, 0.6, 0.6),width=.7,edgecolor=\"black\")\n",
    "plt.title('Council District VS Number of crimes',fontsize=15)"
   ]
  },
  {
   "cell_type": "markdown",
   "id": "eee0f7fa",
   "metadata": {},
   "source": [
    "#### The council district with most occurred crime was Ellicott followed by north."
   ]
  },
  {
   "cell_type": "markdown",
   "id": "0423293a",
   "metadata": {},
   "source": [
    "### 4. Which Police Districts have the most number of crimes commited?"
   ]
  },
  {
   "cell_type": "code",
   "execution_count": 11,
   "id": "8b3aadef",
   "metadata": {},
   "outputs": [
    {
     "data": {
      "text/html": [
       "<div>\n",
       "<style scoped>\n",
       "    .dataframe tbody tr th:only-of-type {\n",
       "        vertical-align: middle;\n",
       "    }\n",
       "\n",
       "    .dataframe tbody tr th {\n",
       "        vertical-align: top;\n",
       "    }\n",
       "\n",
       "    .dataframe thead th {\n",
       "        text-align: right;\n",
       "    }\n",
       "</style>\n",
       "<table border=\"1\" class=\"dataframe\">\n",
       "  <thead>\n",
       "    <tr style=\"text-align: right;\">\n",
       "      <th></th>\n",
       "      <th>Police District</th>\n",
       "      <th>No of Crimes</th>\n",
       "    </tr>\n",
       "  </thead>\n",
       "  <tbody>\n",
       "    <tr>\n",
       "      <th>0</th>\n",
       "      <td>District E</td>\n",
       "      <td>64339</td>\n",
       "    </tr>\n",
       "    <tr>\n",
       "      <th>1</th>\n",
       "      <td>District D</td>\n",
       "      <td>64299</td>\n",
       "    </tr>\n",
       "    <tr>\n",
       "      <th>2</th>\n",
       "      <td>District B</td>\n",
       "      <td>62581</td>\n",
       "    </tr>\n",
       "    <tr>\n",
       "      <th>3</th>\n",
       "      <td>District C</td>\n",
       "      <td>50301</td>\n",
       "    </tr>\n",
       "    <tr>\n",
       "      <th>4</th>\n",
       "      <td>District A</td>\n",
       "      <td>31865</td>\n",
       "    </tr>\n",
       "  </tbody>\n",
       "</table>\n",
       "</div>"
      ],
      "text/plain": [
       "  Police District  No of Crimes\n",
       "0      District E         64339\n",
       "1      District D         64299\n",
       "2      District B         62581\n",
       "3      District C         50301\n",
       "4      District A         31865"
      ]
     },
     "metadata": {},
     "output_type": "display_data"
    }
   ],
   "source": [
    "Police_District = pd.read_sql_query(\"Select Police_District, Count(Case_number) as Count from Incident Group by Police_District Order by Count(Case_number) DESC ;\",conn)\n",
    "Police_District.columns = [\"Police District\", \"No of Crimes\"]\n",
    "display(Police_District[0:5])"
   ]
  },
  {
   "cell_type": "code",
   "execution_count": 12,
   "id": "1370269e",
   "metadata": {},
   "outputs": [
    {
     "data": {
      "text/plain": [
       "Text(0.5, 1.0, 'Police District with more number of crimes')"
      ]
     },
     "execution_count": 12,
     "metadata": {},
     "output_type": "execute_result"
    },
    {
     "data": {
      "image/png": "[encoded data removed]",
      "text/plain": [
       "<Figure size 720x360 with 1 Axes>"
      ]
     },
     "metadata": {
      "needs_background": "light"
     },
     "output_type": "display_data"
    }
   ],
   "source": [
    "\n",
    "plt.figure(figsize=(10, 5))\n",
    "plt.bar(Police_District['Police District'][0:5],Police_District['No of Crimes'][0:5],color=['violet', 'crimson', 'indigo', 'maroon','brown'],width=.8,edgecolor=\"black\")\n",
    "plt.title('Police District with more number of crimes',fontsize=15)"
   ]
  },
  {
   "cell_type": "markdown",
   "id": "67109b84",
   "metadata": {},
   "source": [
    "#### The police districts with the most crime rates were District E and District D."
   ]
  },
  {
   "cell_type": "markdown",
   "id": "d5f9d449",
   "metadata": {},
   "source": [
    "### 5. Which  Neighbourhood in Buffalo city is mostly unsafe?"
   ]
  },
  {
   "cell_type": "code",
   "execution_count": 13,
   "id": "b85e8fd7",
   "metadata": {},
   "outputs": [
    {
     "data": {
      "text/html": [
       "<div>\n",
       "<style scoped>\n",
       "    .dataframe tbody tr th:only-of-type {\n",
       "        vertical-align: middle;\n",
       "    }\n",
       "\n",
       "    .dataframe tbody tr th {\n",
       "        vertical-align: top;\n",
       "    }\n",
       "\n",
       "    .dataframe thead th {\n",
       "        text-align: right;\n",
       "    }\n",
       "</style>\n",
       "<table border=\"1\" class=\"dataframe\">\n",
       "  <thead>\n",
       "    <tr style=\"text-align: right;\">\n",
       "      <th></th>\n",
       "      <th>Neighbourhood</th>\n",
       "      <th>No of Crimes</th>\n",
       "    </tr>\n",
       "  </thead>\n",
       "  <tbody>\n",
       "    <tr>\n",
       "      <th>0</th>\n",
       "      <td>Broadway Fillmore</td>\n",
       "      <td>15833</td>\n",
       "    </tr>\n",
       "    <tr>\n",
       "      <th>1</th>\n",
       "      <td>Central</td>\n",
       "      <td>14829</td>\n",
       "    </tr>\n",
       "    <tr>\n",
       "      <th>2</th>\n",
       "      <td>Kensington-Bailey</td>\n",
       "      <td>14442</td>\n",
       "    </tr>\n",
       "    <tr>\n",
       "      <th>3</th>\n",
       "      <td>North Park</td>\n",
       "      <td>13425</td>\n",
       "    </tr>\n",
       "    <tr>\n",
       "      <th>4</th>\n",
       "      <td>Genesee-Moselle</td>\n",
       "      <td>12575</td>\n",
       "    </tr>\n",
       "    <tr>\n",
       "      <th>5</th>\n",
       "      <td>Schiller Park</td>\n",
       "      <td>11768</td>\n",
       "    </tr>\n",
       "    <tr>\n",
       "      <th>6</th>\n",
       "      <td>Elmwood Bidwell</td>\n",
       "      <td>11584</td>\n",
       "    </tr>\n",
       "    <tr>\n",
       "      <th>7</th>\n",
       "      <td>Elmwood Bryant</td>\n",
       "      <td>11132</td>\n",
       "    </tr>\n",
       "    <tr>\n",
       "      <th>8</th>\n",
       "      <td>Upper West Side</td>\n",
       "      <td>10574</td>\n",
       "    </tr>\n",
       "    <tr>\n",
       "      <th>9</th>\n",
       "      <td>University Heights</td>\n",
       "      <td>10453</td>\n",
       "    </tr>\n",
       "  </tbody>\n",
       "</table>\n",
       "</div>"
      ],
      "text/plain": [
       "        Neighbourhood  No of Crimes\n",
       "0   Broadway Fillmore         15833\n",
       "1             Central         14829\n",
       "2   Kensington-Bailey         14442\n",
       "3          North Park         13425\n",
       "4     Genesee-Moselle         12575\n",
       "5       Schiller Park         11768\n",
       "6     Elmwood Bidwell         11584\n",
       "7      Elmwood Bryant         11132\n",
       "8     Upper West Side         10574\n",
       "9  University Heights         10453"
      ]
     },
     "metadata": {},
     "output_type": "display_data"
    }
   ],
   "source": [
    "Neighbourhood = pd.read_sql_query(\"select * from (Select Neighbourhood, Count(Case_number) as Count from Incident  Group by Neighbourhood Order by Count(Case_number) DESC) where Count>10000 ;\",conn)\n",
    "Neighbourhood.columns = [\"Neighbourhood\", \"No of Crimes\"]\n",
    "display(Neighbourhood)"
   ]
  },
  {
   "cell_type": "code",
   "execution_count": 14,
   "id": "6f30cf56",
   "metadata": {},
   "outputs": [
    {
     "data": {
      "text/plain": [
       "Text(0.5, 1.0, 'Neighbourhood with maximum crime')"
      ]
     },
     "execution_count": 14,
     "metadata": {},
     "output_type": "execute_result"
    },
    {
     "data": {
      "image/png": "[encoded data removed]",
      "text/plain": [
       "<Figure size 1440x504 with 1 Axes>"
      ]
     },
     "metadata": {
      "needs_background": "light"
     },
     "output_type": "display_data"
    }
   ],
   "source": [
    "plt.figure(figsize=(20, 7))\n",
    "plt.bar(Neighbourhood['Neighbourhood'],Neighbourhood['No of Crimes'],width=.7,edgecolor=\"black\")\n",
    "plt.title('Neighbourhood with maximum crime',fontsize=20)"
   ]
  },
  {
   "cell_type": "markdown",
   "id": "cae9b2a8",
   "metadata": {},
   "source": [
    "#### Broadway Fillmore in buffalo city was found to be the most dangerous neighborhood in Buffalo."
   ]
  },
  {
   "cell_type": "markdown",
   "id": "e1e48889",
   "metadata": {},
   "source": [
    "### 6. What hour of the day the crime rate is high?"
   ]
  },
  {
   "cell_type": "code",
   "execution_count": 15,
   "id": "ecb0f03c",
   "metadata": {},
   "outputs": [],
   "source": [
    "hour_of_day =pd.read_sql_query(\"Select hour_of_day, count(Case_number) as Count from Incident Group by hour_of_day;\",conn)\n",
    "hour_of_day.columns = [\"Hour\", \"No of Crimes\"]"
   ]
  },
  {
   "cell_type": "code",
   "execution_count": 16,
   "id": "71bd8d0d",
   "metadata": {},
   "outputs": [
    {
     "data": {
      "text/plain": [
       "Text(0.5, 1.0, 'Number of crimes each hour of the day')"
      ]
     },
     "execution_count": 16,
     "metadata": {},
     "output_type": "execute_result"
    },
    {
     "data": {
      "image/png": "[encoded data removed]",
      "text/plain": [
       "<Figure size 1440x360 with 1 Axes>"
      ]
     },
     "metadata": {
      "needs_background": "light"
     },
     "output_type": "display_data"
    }
   ],
   "source": [
    "plt.figure(figsize=(20, 5))\n",
    "plt.bar(hour_of_day['Hour'],hour_of_day['No of Crimes'],width=.5,color=\"crimson\")\n",
    "plt.title('Number of crimes each hour of the day',fontsize=20)"
   ]
  },
  {
   "cell_type": "markdown",
   "id": "57bbc477",
   "metadata": {},
   "source": [
    "#### Most of the crimes occurred at midnight 12pm and there was a spike observed at 12 noon as well.\n"
   ]
  },
  {
   "cell_type": "markdown",
   "id": "040763ef",
   "metadata": {},
   "source": [
    "## Which days of the week crime rate is high?"
   ]
  },
  {
   "cell_type": "code",
   "execution_count": 17,
   "id": "facd750e",
   "metadata": {},
   "outputs": [
    {
     "data": {
      "text/html": [
       "<div>\n",
       "<style scoped>\n",
       "    .dataframe tbody tr th:only-of-type {\n",
       "        vertical-align: middle;\n",
       "    }\n",
       "\n",
       "    .dataframe tbody tr th {\n",
       "        vertical-align: top;\n",
       "    }\n",
       "\n",
       "    .dataframe thead th {\n",
       "        text-align: right;\n",
       "    }\n",
       "</style>\n",
       "<table border=\"1\" class=\"dataframe\">\n",
       "  <thead>\n",
       "    <tr style=\"text-align: right;\">\n",
       "      <th></th>\n",
       "      <th>Day</th>\n",
       "      <th>Count of crimes</th>\n",
       "    </tr>\n",
       "  </thead>\n",
       "  <tbody>\n",
       "    <tr>\n",
       "      <th>0</th>\n",
       "      <td>FRIDAY</td>\n",
       "      <td>41500</td>\n",
       "    </tr>\n",
       "    <tr>\n",
       "      <th>1</th>\n",
       "      <td>SATURDAY</td>\n",
       "      <td>41049</td>\n",
       "    </tr>\n",
       "    <tr>\n",
       "      <th>2</th>\n",
       "      <td>MONDAY</td>\n",
       "      <td>39232</td>\n",
       "    </tr>\n",
       "    <tr>\n",
       "      <th>3</th>\n",
       "      <td>WEDNESDAY</td>\n",
       "      <td>38936</td>\n",
       "    </tr>\n",
       "    <tr>\n",
       "      <th>4</th>\n",
       "      <td>SUNDAY</td>\n",
       "      <td>38644</td>\n",
       "    </tr>\n",
       "    <tr>\n",
       "      <th>5</th>\n",
       "      <td>TUESDAY</td>\n",
       "      <td>38636</td>\n",
       "    </tr>\n",
       "    <tr>\n",
       "      <th>6</th>\n",
       "      <td>THURSDAY</td>\n",
       "      <td>38626</td>\n",
       "    </tr>\n",
       "  </tbody>\n",
       "</table>\n",
       "</div>"
      ],
      "text/plain": [
       "         Day  Count of crimes\n",
       "0     FRIDAY            41500\n",
       "1   SATURDAY            41049\n",
       "2     MONDAY            39232\n",
       "3  WEDNESDAY            38936\n",
       "4     SUNDAY            38644\n",
       "5    TUESDAY            38636\n",
       "6   THURSDAY            38626"
      ]
     },
     "metadata": {},
     "output_type": "display_data"
    }
   ],
   "source": [
    "weekly_crimes = pd.read_sql_query('''select * from (Select day_of_week,count(Case_number) as count from Incident INNER JOIN \n",
    "                                                   Incident_type on Incident.Incident_type_primary=Incident_type.Incident_type_primary  \n",
    "                                                   Group by day_of_week\n",
    "                                                   Order by Count(Case_number) DESC) where day_of_week is NOT NULL''',conn)\n",
    "weekly_crimes.columns = ['Day','Count of crimes']\n",
    "display(weekly_crimes[0:7])"
   ]
  },
  {
   "cell_type": "code",
   "execution_count": 18,
   "id": "93c7885d",
   "metadata": {},
   "outputs": [
    {
     "data": {
      "text/plain": [
       "Text(0.5, 1.0, 'Day of Week vs Crime Count')"
      ]
     },
     "execution_count": 18,
     "metadata": {},
     "output_type": "execute_result"
    },
    {
     "data": {
      "image/png": "[encoded data removed]",
      "text/plain": [
       "<Figure size 1080x360 with 1 Axes>"
      ]
     },
     "metadata": {
      "needs_background": "light"
     },
     "output_type": "display_data"
    }
   ],
   "source": [
    "plt.figure(figsize=(15, 5))\n",
    "plt.bar(weekly_crimes['Day'][0:7],weekly_crimes['Count of crimes'][0:7],color=['violet', 'indigo', 'blue','green','yellow','orange','red'],width=.7,edgecolor=\"white\")\n",
    "plt.title('Day of Week vs Crime Count',fontsize=15)"
   ]
  },
  {
   "cell_type": "markdown",
   "id": "291dcbcc",
   "metadata": {},
   "source": [
    "#### More crimes occurr on Fridays and Saturdays compared to other days of the week."
   ]
  },
  {
   "cell_type": "code",
   "execution_count": 19,
   "id": "0a350282",
   "metadata": {},
   "outputs": [
    {
     "data": {
      "image/png": "[encoded data removed]",
      "text/plain": [
       "<Figure size 432x288 with 1 Axes>"
      ]
     },
     "metadata": {},
     "output_type": "display_data"
    }
   ],
   "source": [
    "fig = plt.figure()\n",
    "ax = fig.add_axes([0,0,1,2])\n",
    "ax.axis('equal')\n",
    "ax.pie(weekly_crimes['Count of crimes'][0:7], labels = weekly_crimes['Day'][0:7],autopct='%1.2f%%',wedgeprops={\"linewidth\": 1, \"edgecolor\": \"white\"})\n",
    "plt.title('Day of Week vs Crime Count',fontsize=15)\n",
    "plt.show()\n",
    "\n"
   ]
  },
  {
   "cell_type": "markdown",
   "id": "a7eee0ec",
   "metadata": {},
   "source": [
    "### Conclusion"
   ]
  },
  {
   "cell_type": "markdown",
   "id": "a4c50069",
   "metadata": {},
   "source": [
    "#### The results of the above analyses can help the buffalo police, they can patrol more during the peak hours of crimes and during Fridays and Saturdays.\n",
    "#### This data can also be further useful for people who are planning to buy a property in buffalo city they will be able to avoid the neighborhoods with more crime rates.This can help the people looking to rent or buy property. Additionally, it can also help the property owners to tag their property at reasonable price\n"
   ]
  },
  {
   "cell_type": "markdown",
   "id": "3b15bb0f",
   "metadata": {},
   "source": []
  }
 ],
 "metadata": {
  "kernelspec": {
   "display_name": "Python 3 (ipykernel)",
   "language": "python",
   "name": "python3"
  },
  "language_info": {
   "codemirror_mode": {
    "name": "ipython",
    "version": 3
   },
   "file_extension": ".py",
   "mimetype": "text/x-python",
   "name": "python",
   "nbconvert_exporter": "python",
   "pygments_lexer": "ipython3",
   "version": "3.8.10"
  }
 },
 "nbformat": 4,
 "nbformat_minor": 5
}
